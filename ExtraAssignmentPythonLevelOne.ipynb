{
 "cells": [
  {
   "cell_type": "code",
   "execution_count": 1,
   "id": "4453a9b7-0998-4b2a-8a04-e2f15b5fd551",
   "metadata": {},
   "outputs": [
    {
     "name": "stdout",
     "output_type": "stream",
     "text": [
      "HOPE AI\n"
     ]
    }
   ],
   "source": [
    "#print Statement\n",
    "print('HOPE AI');"
   ]
  },
  {
   "cell_type": "code",
   "execution_count": 7,
   "id": "2dc7763d-b99e-4480-8722-20fafe4827de",
   "metadata": {},
   "outputs": [
    {
     "name": "stdin",
     "output_type": "stream",
     "text": [
      "Enter your institute name? : HOPE AI\n"
     ]
    }
   ],
   "source": [
    "# Buy input \n",
    "institute = input(\"Enter your institute name? :\");\n",
    "#print(\"Enter your institute name? :\",institute);\n"
   ]
  },
  {
   "cell_type": "code",
   "execution_count": 9,
   "id": "068c9c11-b203-4e94-a511-bdee7f27b208",
   "metadata": {},
   "outputs": [
    {
     "name": "stdin",
     "output_type": "stream",
     "text": [
      "Enter your name: Raj\n",
      "Enter your institute age: 15\n",
      "Enter your school name: Guru school\n",
      "Enter your degree: B.E CSE\n"
     ]
    }
   ],
   "source": [
    "# Buy inputs\n",
    "name = input(\"Enter your name:\");\n",
    "age = input(\"Enter your institute age:\");\n",
    "schoolName = input(\"Enter your school name:\");\n",
    "degree = input(\"Enter your degree:\");"
   ]
  },
  {
   "cell_type": "code",
   "execution_count": 23,
   "id": "38ebf3a7-17a1-4b1c-8982-43a771d4fcd4",
   "metadata": {},
   "outputs": [
    {
     "name": "stdin",
     "output_type": "stream",
     "text": [
      "Enter First Number : 43\n",
      "Enter Second Number : 34\n"
     ]
    },
    {
     "name": "stdout",
     "output_type": "stream",
     "text": [
      "a = 43\n",
      "b = 34\n",
      "add = 77\n"
     ]
    }
   ],
   "source": [
    "#Addition \n",
    "a = int(input(\"Enter First Number :\"));\n",
    "b = int(input(\"Enter Second Number :\"));\n",
    "Add = a + b;\n",
    "print(\"a =\",a);\n",
    "print(\"b =\",b);\n",
    "print(\"add =\",Add);"
   ]
  },
  {
   "cell_type": "code",
   "execution_count": 25,
   "id": "f6f0b055-2f8f-4848-95ea-79a7334b8a92",
   "metadata": {},
   "outputs": [
    {
     "name": "stdin",
     "output_type": "stream",
     "text": [
      "Enter First Number : 43\n",
      "Enter Second Number : 34\n"
     ]
    },
    {
     "name": "stdout",
     "output_type": "stream",
     "text": [
      "a = 43\n",
      "b = 34\n",
      "Sub = 9\n"
     ]
    }
   ],
   "source": [
    "#Subtraction \n",
    "a = int(input(\"Enter First Number :\"));\n",
    "b = int(input(\"Enter Second Number :\"));\n",
    "Sub = a - b;\n",
    "print(\"a =\",a);\n",
    "print(\"b =\",b);\n",
    "print(\"Sub =\",Sub);"
   ]
  },
  {
   "cell_type": "code",
   "execution_count": 27,
   "id": "1d3be5df-02ed-4c40-8bff-d57cdeeeaa37",
   "metadata": {},
   "outputs": [
    {
     "name": "stdin",
     "output_type": "stream",
     "text": [
      "Enter First Number : 63\n",
      "Enter Second Number : 97\n"
     ]
    },
    {
     "name": "stdout",
     "output_type": "stream",
     "text": [
      "a = 63\n",
      "b = 97\n",
      "Mul = 6111\n"
     ]
    }
   ],
   "source": [
    "#Multiplication \n",
    "a = int(input(\"Enter First Number :\"));\n",
    "b = int(input(\"Enter Second Number :\"));\n",
    "Mult = a * b;\n",
    "print(\"a =\",a);\n",
    "print(\"b =\",b);\n",
    "print(\"Mul =\",Mult);"
   ]
  },
  {
   "cell_type": "code",
   "execution_count": 29,
   "id": "2482deb7-afb2-4faf-b4b2-cce02d958479",
   "metadata": {},
   "outputs": [
    {
     "name": "stdin",
     "output_type": "stream",
     "text": [
      "Enter First Number : 76\n",
      "Enter Second Number : 31\n"
     ]
    },
    {
     "name": "stdout",
     "output_type": "stream",
     "text": [
      "a = 76\n",
      "b = 31\n",
      "Float Div = 2.4516129032258065\n"
     ]
    }
   ],
   "source": [
    "#Division \n",
    "a = int(input(\"Enter First Number :\"));\n",
    "b = int(input(\"Enter Second Number :\"));\n",
    "Div = a / b;\n",
    "print(\"a =\",a);\n",
    "print(\"b =\",b);\n",
    "print(\"Float Div =\",Div);"
   ]
  },
  {
   "cell_type": "code",
   "execution_count": 33,
   "id": "0c151e26-d95d-4fa8-8129-a805effcd32c",
   "metadata": {},
   "outputs": [
    {
     "name": "stdin",
     "output_type": "stream",
     "text": [
      "Enter First Number : 76\n",
      "Enter Second Number : 31\n"
     ]
    },
    {
     "name": "stdout",
     "output_type": "stream",
     "text": [
      "a = 76\n",
      "b = 31\n",
      "Floor Div = 2\n"
     ]
    }
   ],
   "source": [
    "#Floor Division \n",
    "a = int(input(\"Enter First Number :\"));\n",
    "b = int(input(\"Enter Second Number :\"));\n",
    "floorDiv = a // b;\n",
    "print(\"a =\",a);\n",
    "print(\"b =\",b);\n",
    "print(\"Floor Div =\",floorDiv);"
   ]
  },
  {
   "cell_type": "code",
   "execution_count": 35,
   "id": "9fd9029f-f9e0-4f0f-a40a-5f57c84aa135",
   "metadata": {},
   "outputs": [
    {
     "name": "stdin",
     "output_type": "stream",
     "text": [
      "Enter First Number : 76\n",
      "Enter Second Number : 31\n"
     ]
    },
    {
     "name": "stdout",
     "output_type": "stream",
     "text": [
      "a = 76\n",
      "b = 31\n",
      "Modulo = 14\n"
     ]
    }
   ],
   "source": [
    "#Modulo \n",
    "a = int(input(\"Enter First Number :\"));\n",
    "b = int(input(\"Enter Second Number :\"));\n",
    "Modlulo = a % b;\n",
    "print(\"a =\",a);\n",
    "print(\"b =\",b);\n",
    "print(\"Modulo =\",Modlulo);"
   ]
  },
  {
   "cell_type": "code",
   "execution_count": 37,
   "id": "9c6ac8cd-5fc0-442b-873c-fc6f8dafbf12",
   "metadata": {},
   "outputs": [
    {
     "name": "stdin",
     "output_type": "stream",
     "text": [
      "Enter First Number : 4\n",
      "Enter Second Number : 4\n"
     ]
    },
    {
     "name": "stdout",
     "output_type": "stream",
     "text": [
      "a = 4\n",
      "b = 4\n",
      "Power = 256\n"
     ]
    }
   ],
   "source": [
    "#Power \n",
    "a = int(input(\"Enter First Number :\"));\n",
    "b = int(input(\"Enter Second Number :\"));\n",
    "Power = a ** b;\n",
    "print(\"a =\",a);\n",
    "print(\"b =\",b);\n",
    "print(\"Power =\",Power);"
   ]
  },
  {
   "cell_type": "code",
   "execution_count": null,
   "id": "4f9d9afe-8540-449a-8380-b2d0bac6e616",
   "metadata": {},
   "outputs": [],
   "source": []
  }
 ],
 "metadata": {
  "kernelspec": {
   "display_name": "Python 3 (ipykernel)",
   "language": "python",
   "name": "python3"
  },
  "language_info": {
   "codemirror_mode": {
    "name": "ipython",
    "version": 3
   },
   "file_extension": ".py",
   "mimetype": "text/x-python",
   "name": "python",
   "nbconvert_exporter": "python",
   "pygments_lexer": "ipython3",
   "version": "3.12.4"
  }
 },
 "nbformat": 4,
 "nbformat_minor": 5
}
