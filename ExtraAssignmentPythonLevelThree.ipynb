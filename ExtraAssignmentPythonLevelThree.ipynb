{
 "cells": [
  {
   "cell_type": "code",
   "execution_count": 3,
   "id": "0131afb7-afba-40e2-99a5-1ba771de3290",
   "metadata": {},
   "outputs": [
    {
     "name": "stdin",
     "output_type": "stream",
     "text": [
      "Enter the Number: 10\n"
     ]
    },
    {
     "name": "stdout",
     "output_type": "stream",
     "text": [
      "value: 10\n",
      "Correct\n"
     ]
    }
   ],
   "source": [
    " # print 'CORRECT' if i == 10 \n",
    "value = int(input(\"Enter the Number:\"));\n",
    "if(value == 10):\n",
    "    print(\"value:\",value);\n",
    "    print(\"Correct\");"
   ]
  },
  {
   "cell_type": "code",
   "execution_count": 5,
   "id": "8ad331f7-721d-474c-84fd-632ff3955a51",
   "metadata": {},
   "outputs": [
    {
     "name": "stdin",
     "output_type": "stream",
     "text": [
      "Enter the password: HOPE@123\n"
     ]
    },
    {
     "name": "stdout",
     "output_type": "stream",
     "text": [
      "Your password is correct\n"
     ]
    }
   ],
   "source": [
    "# Check the password, using if and else \n",
    "# Enter the password: HOPE@123 \n",
    "#Your password is correct\n",
    "pwd = input(\"Enter the password:\");\n",
    "if(pwd == \"HOPE@123\"):\n",
    "    print(\"Your password is correct\");"
   ]
  },
  {
   "cell_type": "code",
   "execution_count": 13,
   "id": "b0fd2643-bb8d-425e-9121-c4a97648f98f",
   "metadata": {},
   "outputs": [
    {
     "name": "stdin",
     "output_type": "stream",
     "text": [
      "Enter your age 65\n"
     ]
    },
    {
     "name": "stdout",
     "output_type": "stream",
     "text": [
      "Senior Citizen\n"
     ]
    }
   ],
   "source": [
    "# Catagory the people by their age like children, adult, citizen, senior citizen...\n",
    "def ageCategory():\n",
    "    age = int(input(\"Enter your age\"));\n",
    "    if((age >0) & (age<18)):\n",
    "        print(\"Children\");\n",
    "    elif((age >=18) & (age<=30)):\n",
    "        print(\"Adult\");\n",
    "    elif((age >30) & (age<=60)):\n",
    "        print(\"Citizen\");\n",
    "    else:\n",
    "        print(\"Senior Citizen\");\n",
    "\n",
    "ageCategory();\n",
    "    "
   ]
  },
  {
   "cell_type": "code",
   "execution_count": 21,
   "id": "28847f44-ad8e-4f08-bf6f-1f84c125ba5a",
   "metadata": {},
   "outputs": [
    {
     "name": "stdin",
     "output_type": "stream",
     "text": [
      "Enter any number: 0\n"
     ]
    },
    {
     "name": "stdout",
     "output_type": "stream",
     "text": [
      "0 is positive\n"
     ]
    }
   ],
   "source": [
    "# Find whether given number is positive or negative \n",
    "def PositiveOrNegative():\n",
    "    num = int(input(\"Enter any number:\"));\n",
    "    if(num<0):\n",
    "        print(num,\"is negative\");\n",
    "    else:\n",
    "        print(num,\"is positive\");\n",
    "\n",
    "PositiveOrNegative();\n",
    "              "
   ]
  },
  {
   "cell_type": "code",
   "execution_count": 3,
   "id": "b4735336-5d4f-44da-b3e2-09604ffd50dc",
   "metadata": {},
   "outputs": [
    {
     "name": "stdin",
     "output_type": "stream",
     "text": [
      "Enter any number: 80\n"
     ]
    },
    {
     "name": "stdout",
     "output_type": "stream",
     "text": [
      "80 is divisible by 5\n"
     ]
    }
   ],
   "source": [
    "# Check whether the given number is divisible by 5 \n",
    "def DivisibleByFive():\n",
    "    num1 = int(input(\"Enter any number:\"));\n",
    "    if(num1%5 != 0):\n",
    "        print(num1,\"is not divisible by 5\");\n",
    "    else:\n",
    "        print(num1,\"is divisible by 5\");\n",
    "\n",
    "DivisibleByFive();"
   ]
  },
  {
   "cell_type": "code",
   "execution_count": null,
   "id": "44dc3b4b-4b82-47f6-bd89-7408d2672629",
   "metadata": {},
   "outputs": [],
   "source": []
  }
 ],
 "metadata": {
  "kernelspec": {
   "display_name": "Python 3 (ipykernel)",
   "language": "python",
   "name": "python3"
  },
  "language_info": {
   "codemirror_mode": {
    "name": "ipython",
    "version": 3
   },
   "file_extension": ".py",
   "mimetype": "text/x-python",
   "name": "python",
   "nbconvert_exporter": "python",
   "pygments_lexer": "ipython3",
   "version": "3.12.4"
  }
 },
 "nbformat": 4,
 "nbformat_minor": 5
}
