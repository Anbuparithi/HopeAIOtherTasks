{
 "cells": [
  {
   "cell_type": "code",
   "execution_count": 1,
   "id": "8f9d373c-fafe-4e28-ba12-fa065035a983",
   "metadata": {},
   "outputs": [
    {
     "name": "stdout",
     "output_type": "stream",
     "text": [
      "Welcome to Assignment-1\n"
     ]
    }
   ],
   "source": [
    "#print Statement \n",
    "print(\"Welcome to Assignment-1\");"
   ]
  },
  {
   "cell_type": "code",
   "execution_count": 5,
   "id": "a3fbab93-98bb-4dfe-b207-8be13a13e707",
   "metadata": {},
   "outputs": [
    {
     "name": "stdin",
     "output_type": "stream",
     "text": [
      "Enter First Number : 10\n",
      "Enter Second Number : 30\n"
     ]
    },
    {
     "name": "stdout",
     "output_type": "stream",
     "text": [
      "Num1 = 10\n",
      "Num2 = 30\n",
      "Add = 40\n"
     ]
    }
   ],
   "source": [
    "Num1 = int(input(\"Enter First Number :\"));\n",
    "Num2 = int(input(\"Enter Second Number :\"));\n",
    "Add = Num1 + Num2;\n",
    "print(\"Num1 =\",Num1);\n",
    "print(\"Num2 =\",Num2);\n",
    "print(\"Add =\",Add);"
   ]
  },
  {
   "cell_type": "code",
   "execution_count": 37,
   "id": "36d46867-b519-43b4-963f-6353ac65b543",
   "metadata": {},
   "outputs": [
    {
     "name": "stdin",
     "output_type": "stream",
     "text": [
      "Enter the BMI Index: 18.5\n"
     ]
    },
    {
     "name": "stdout",
     "output_type": "stream",
     "text": [
      "Norml Weight\n"
     ]
    }
   ],
   "source": [
    "def BmiIndexCalc():\n",
    "    bmiRange = float(input(\"Enter the BMI Index:\"));\n",
    "    message ='';\n",
    "    if (bmiRange < 18.5):\n",
    "        message = \"Underweight\";\n",
    "    elif ((bmiRange>=18.5) & (bmiRange<=24.9)):\n",
    "        message = \"Norml Weight\";\n",
    "    elif ((bmiRange>=25) & (bmiRange<=29.9)):\n",
    "        message = \"Over Weight\";\n",
    "    else:\n",
    "        message = 'Very Overweight';\n",
    "    return message;\n",
    "\n",
    "bmiMessage=BmiIndexCalc();\n",
    "print(bmiMessage);\n",
    "    "
   ]
  },
  {
   "cell_type": "code",
   "execution_count": null,
   "id": "3bb3c3ae-38e1-46a1-8c58-b3c7e6c2b147",
   "metadata": {},
   "outputs": [],
   "source": []
  }
 ],
 "metadata": {
  "kernelspec": {
   "display_name": "Python 3 (ipykernel)",
   "language": "python",
   "name": "python3"
  },
  "language_info": {
   "codemirror_mode": {
    "name": "ipython",
    "version": 3
   },
   "file_extension": ".py",
   "mimetype": "text/x-python",
   "name": "python",
   "nbconvert_exporter": "python",
   "pygments_lexer": "ipython3",
   "version": "3.12.4"
  }
 },
 "nbformat": 4,
 "nbformat_minor": 5
}
