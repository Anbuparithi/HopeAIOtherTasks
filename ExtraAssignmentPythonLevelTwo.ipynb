{
 "cells": [
  {
   "cell_type": "code",
   "execution_count": 1,
   "id": "76d285ce-19f5-41b3-a15a-ad475cdedf7d",
   "metadata": {},
   "outputs": [
    {
     "name": "stdout",
     "output_type": "stream",
     "text": [
      "0\n",
      "1\n",
      "2\n",
      "3\n",
      "4\n",
      "5\n",
      "6\n",
      "7\n",
      "8\n",
      "9\n",
      "10\n",
      "11\n",
      "12\n",
      "13\n",
      "14\n",
      "15\n",
      "16\n",
      "17\n",
      "18\n",
      "19\n"
     ]
    }
   ],
   "source": [
    "# print 0 to 20 by using range \n",
    "for i in range(0,20):\n",
    "    print(i);"
   ]
  },
  {
   "cell_type": "code",
   "execution_count": 3,
   "id": "fdc1e2bc-6381-412e-886b-666f0dcb04a1",
   "metadata": {},
   "outputs": [
    {
     "name": "stdout",
     "output_type": "stream",
     "text": [
      "10\n",
      "11\n",
      "12\n",
      "13\n",
      "14\n",
      "15\n",
      "16\n",
      "17\n",
      "18\n",
      "19\n"
     ]
    }
   ],
   "source": [
    "# print range 10 to 20 \n",
    "for i in range(10,20):\n",
    "    print(i);"
   ]
  },
  {
   "cell_type": "code",
   "execution_count": 9,
   "id": "19ec7ee5-75d6-4101-a170-b18b2d0861c8",
   "metadata": {},
   "outputs": [
    {
     "name": "stdout",
     "output_type": "stream",
     "text": [
      "Number of item in the List2: 7\n"
     ]
    }
   ],
   "source": [
    "# Print number of items in the list by using 'len' \n",
    "List2=[10, 20, 14, 55, 43, 87, 76] \n",
    "print(\"Number of item in the List2:\",len(List2));\n"
   ]
  },
  {
   "cell_type": "code",
   "execution_count": 15,
   "id": "66aa479b-11cc-4f42-845e-2c088ac01d7e",
   "metadata": {},
   "outputs": [
    {
     "name": "stdout",
     "output_type": "stream",
     "text": [
      "A\n",
      "r\n",
      "t\n",
      "i\n",
      "f\n",
      "i\n",
      "c\n",
      "i\n",
      "a\n",
      "l\n",
      " \n",
      "I\n",
      "n\n",
      "t\n",
      "e\n",
      "l\n",
      "l\n",
      "i\n",
      "g\n",
      "e\n",
      "n\n",
      "c\n",
      "e\n"
     ]
    }
   ],
   "source": [
    "Hope = \"Artificial Intelligence\";\n",
    "i=0;\n",
    "while i < len(Hope):\n",
    "    print (Hope[i]);\n",
    "    i += 1;"
   ]
  },
  {
   "cell_type": "code",
   "execution_count": 17,
   "id": "3713841f-98e0-4959-9e51-13615a18b788",
   "metadata": {},
   "outputs": [
    {
     "name": "stdin",
     "output_type": "stream",
     "text": [
      "-Your Name- Prem\n",
      "-Your Age- 50\n",
      "-Your Profession- Software Engineer\n"
     ]
    }
   ],
   "source": [
    "#-Your Name- \n",
    "#-Your Age- \n",
    "#-Your Profession-\n",
    "name = input(\"-Your Name-\");\n",
    "age = input(\"-Your Age-\");\n",
    "profession = input(\"-Your Profession-\");"
   ]
  },
  {
   "cell_type": "code",
   "execution_count": 19,
   "id": "e1d911f9-549a-4e00-9a7d-8f274e6e75fc",
   "metadata": {},
   "outputs": [
    {
     "name": "stdout",
     "output_type": "stream",
     "text": [
      "(1, 'Welcome', 2, 'Hope')\n"
     ]
    }
   ],
   "source": [
    "#Refer this link : https://www.geeksforgeeks.org/python-tuples/ \n",
    "# Print yhis mixered datatype using Tuples \n",
    "# (1, 'Welcome', 2, 'Hope') \n",
    "myTuple = (1, 'Welcome', 2, 'Hope');\n",
    "print(myTuple);"
   ]
  },
  {
   "cell_type": "code",
   "execution_count": 23,
   "id": "004b96ff-1545-490b-882e-beeb74834c12",
   "metadata": {},
   "outputs": [
    {
     "name": "stdout",
     "output_type": "stream",
     "text": [
      "((0, 1, 2, 3), ('python', 'HOPE'))\n"
     ]
    }
   ],
   "source": [
    " #Refer this link : https://www.geeksforgeeks.org/python-tuples/ \n",
    "#Tuple1 = (0, 1, 2, 3) \n",
    "# ((0, 1, 2, 3), ('python', 'HOPE')) \n",
    "Tuple1 = (0, 1, 2, 3);\n",
    "Tuple2 = ('python','HOPE');\n",
    "combineTuple = (Tuple1,Tuple2);\n",
    "print(combineTuple);"
   ]
  },
  {
   "cell_type": "code",
   "execution_count": 25,
   "id": "d3eb09cb-d169-4deb-8152-2e3bb7f538cc",
   "metadata": {},
   "outputs": [
    {
     "name": "stdout",
     "output_type": "stream",
     "text": [
      "19  is odd\n",
      "25  is odd\n",
      "1  is odd\n"
     ]
    }
   ],
   "source": [
    "# print Odd Numbers in the list --> using Tuple\n",
    "# (20,10,16,19,25,1,276,188) \n",
    "givenTuple = (20,10,16,19,25,1,276,188);\n",
    "for x in givenTuple:\n",
    "    if(x%2 !=0):\n",
    "        print(x,\" is odd\");"
   ]
  },
  {
   "cell_type": "code",
   "execution_count": 27,
   "id": "0ef1ae1c-75c9-450a-93cc-a8734d59c87d",
   "metadata": {},
   "outputs": [
    {
     "name": "stdout",
     "output_type": "stream",
     "text": [
      "19  is odd\n",
      "25  is odd\n",
      "1  is odd\n"
     ]
    }
   ],
   "source": [
    "# print Odd Numbers in the list --> using List\n",
    "givenList = [20,10,16,19,25,1,276,188];\n",
    "for x in givenList:\n",
    "    if(x%2 !=0):\n",
    "        print(x,\" is odd\");"
   ]
  },
  {
   "cell_type": "code",
   "execution_count": 29,
   "id": "7baf8fe9-2c78-4c5a-aaa2-c62d741e29fa",
   "metadata": {},
   "outputs": [
    {
     "name": "stdout",
     "output_type": "stream",
     "text": [
      "20  is even\n",
      "10  is even\n",
      "16  is even\n",
      "276  is even\n",
      "188  is even\n"
     ]
    }
   ],
   "source": [
    "# print Even Numbers in the list --> using Tuple\n",
    "givenTuple1 = (20,10,16,19,25,1,276,188);\n",
    "for x in givenTuple1:\n",
    "    if(x%2 ==0):\n",
    "        print(x,\" is even\");"
   ]
  },
  {
   "cell_type": "code",
   "execution_count": 31,
   "id": "51fbc847-4a41-44e2-8a56-559d2d798700",
   "metadata": {},
   "outputs": [
    {
     "name": "stdout",
     "output_type": "stream",
     "text": [
      "20  is even\n",
      "10  is even\n",
      "16  is even\n",
      "276  is even\n",
      "188  is even\n"
     ]
    }
   ],
   "source": [
    "# print Even Numbers in the list --> using List\n",
    "givenList1 = [20,10,16,19,25,1,276,188];\n",
    "for x in givenList1:\n",
    "    if(x%2 ==0):\n",
    "        print(x,\" is even\");"
   ]
  },
  {
   "cell_type": "code",
   "execution_count": null,
   "id": "b8d84930-9db5-4c53-8c20-227f3080b935",
   "metadata": {},
   "outputs": [],
   "source": []
  }
 ],
 "metadata": {
  "kernelspec": {
   "display_name": "Python 3 (ipykernel)",
   "language": "python",
   "name": "python3"
  },
  "language_info": {
   "codemirror_mode": {
    "name": "ipython",
    "version": 3
   },
   "file_extension": ".py",
   "mimetype": "text/x-python",
   "name": "python",
   "nbconvert_exporter": "python",
   "pygments_lexer": "ipython3",
   "version": "3.12.4"
  }
 },
 "nbformat": 4,
 "nbformat_minor": 5
}
